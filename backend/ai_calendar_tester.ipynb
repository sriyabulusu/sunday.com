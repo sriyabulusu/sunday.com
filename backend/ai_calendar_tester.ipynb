{
 "cells": [
  {
   "cell_type": "code",
   "execution_count": 1,
   "metadata": {},
   "outputs": [],
   "source": [
    "from ai_calendar_processor import AICalendarProcessor\n",
    "\n",
    "processor = AICalendarProcessor()"
   ]
  },
  {
   "cell_type": "code",
   "execution_count": 2,
   "metadata": {},
   "outputs": [
    {
     "name": "stderr",
     "output_type": "stream",
     "text": [
      "ERROR:root:Error generating output: argument 3: TypeError: wrong type\n"
     ]
    }
   ],
   "source": [
    "processor.predict(\"\"\"[\n",
    "        {\n",
    "            \"id\": \"1\",\n",
    "            \"title\": \"Morning standup\",\n",
    "            \"start_time\": \"09:00\",\n",
    "            \"end_time\": \"09:30\",\n",
    "            \"day\": \"2023-05-01\"\n",
    "        },\n",
    "        {\n",
    "            \"id\": \"2\",\n",
    "            \"title\": \"Code review\",\n",
    "            \"start_time\": \"10:00\",\n",
    "            \"end_time\": \"11:30\",\n",
    "            \"day\": \"2023-05-01\"\n",
    "        },\n",
    "        {\n",
    "            \"id\": \"3\",\n",
    "            \"title\": \"Lunch break\",\n",
    "            \"start_time\": \"12:00\",\n",
    "            \"end_time\": \"13:00\",\n",
    "            \"day\": \"2023-05-01\"\n",
    "        },\n",
    "        {\n",
    "            \"id\": \"4\",\n",
    "            \"title\": \"Project planning\",\n",
    "            \"start_time\": \"14:00\",\n",
    "            \"end_time\": \"15:30\",\n",
    "            \"day\": \"2023-05-01\"\n",
    "        },\n",
    "        {\n",
    "            \"id\": \"5\",\n",
    "            \"title\": \"Email and admin\",\n",
    "            \"start_time\": \"16:00\",\n",
    "            \"end_time\": \"17:00\",\n",
    "            \"day\": \"2023-05-01\"\n",
    "        }\n",
    "    ]\"\"\")"
   ]
  }
 ],
 "metadata": {
  "kernelspec": {
   "display_name": "cookr",
   "language": "python",
   "name": "python3"
  },
  "language_info": {
   "codemirror_mode": {
    "name": "ipython",
    "version": 3
   },
   "file_extension": ".py",
   "mimetype": "text/x-python",
   "name": "python",
   "nbconvert_exporter": "python",
   "pygments_lexer": "ipython3",
   "version": "3.11.9"
  }
 },
 "nbformat": 4,
 "nbformat_minor": 2
}
